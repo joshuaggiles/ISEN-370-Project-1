{
  "nbformat": 4,
  "nbformat_minor": 0,
  "metadata": {
    "colab": {
      "name": "ISEN 370 Project 2.ipynb",
      "provenance": [],
      "collapsed_sections": [],
      "include_colab_link": true
    },
    "kernelspec": {
      "name": "python3",
      "display_name": "Python 3"
    },
    "language_info": {
      "name": "python"
    }
  },
  "cells": [
    {
      "cell_type": "markdown",
      "metadata": {
        "id": "view-in-github",
        "colab_type": "text"
      },
      "source": [
        "<a href=\"https://colab.research.google.com/github/joshuaggiles/ISEN-370-Project-1/blob/main/ISEN_370_Project_2.ipynb\" target=\"_parent\"><img src=\"https://colab.research.google.com/assets/colab-badge.svg\" alt=\"Open In Colab\"/></a>"
      ]
    },
    {
      "cell_type": "markdown",
      "metadata": {
        "id": "ORIRg6IK6lqT"
      },
      "source": [
        "# ISEN 370 Project 2 Assignment\n",
        "In this project, you will use data science tools to study sampling distributions and construct confidence interval. <br>\n",
        "\n"
      ]
    },
    {
      "cell_type": "markdown",
      "metadata": {
        "id": "JyV5HGI4oSn7"
      },
      "source": [
        "# Import Libraries\n",
        "Import necessary libraries for the project. Use ISEN 370 Project 2 Demo as an example. <br>\n",
        "For your convenience, two libraries have been included below:\n",
        "\n",
        "\n",
        "\n",
        "\n",
        "\n",
        "\n",
        " \n"
      ]
    },
    {
      "cell_type": "code",
      "metadata": {
        "id": "4y1CM1g7kkbB"
      },
      "source": [
        "import numpy as np\n",
        "import pandas as pd\n",
        "import matplotlib.pyplot as plt\n",
        "import scipy.stats as stats\n",
        "import seaborn as sns\n",
        "import statistics as stat\n",
        "import math as math\n",
        "from scipy.stats import t\n",
        "from scipy.stats import chi2"
      ],
      "execution_count": 1,
      "outputs": []
    },
    {
      "cell_type": "markdown",
      "metadata": {
        "id": "3qsXYkC_6_r-"
      },
      "source": [
        "## Data Import\n",
        "\n",
        "The Learning Enhanced Watershed Assessment System (LEWAS) is a unique real-time water and weather monitoring system. The LEWAS monitoring site is installed at the outfall of the Webb Branch watershed on Virginia Tech’s campus. Webb Branch is an urban stream with a 2.78 square kilometer (about one square mile) watershed consisting of residential and commercial properties. The stream is routed through man-made channels and culverts until it discharges at the LEWAS monitoring site.\n",
        "We first import the LEWAS datasets. The data is stored in CSV files for which the path is given in the cell below.\n",
        "The CSV file contains data from 9/28/2017-9/30/2017.<br>\n",
        "We name this link data_url2.\n"
      ]
    },
    {
      "cell_type": "code",
      "metadata": {
        "id": "-9ca6m4CjWwW"
      },
      "source": [
        "data_url2='https://github.com/StevenXJiang/DataScienceModule2/raw/main/LEWAS_Storm_Data_Demo_2.csv'"
      ],
      "execution_count": 2,
      "outputs": []
    },
    {
      "cell_type": "markdown",
      "source": [
        "Import the dataset and print the first 10 rows of data. "
      ],
      "metadata": {
        "id": "PTLMzxXbZPHP"
      }
    },
    {
      "cell_type": "code",
      "metadata": {
        "id": "CBchd78jjraI",
        "outputId": "e3b5b76d-37ac-4fe5-92f4-00168c616ae3",
        "colab": {
          "base_uri": "https://localhost:8080/",
          "height": 363
        }
      },
      "source": [
        "df1=pd.read_csv('https://github.com/StevenXJiang/DataScienceModule2/raw/main/LEWAS_Storm_Data_Demo_2.csv')\n",
        "df1.head(10)\n"
      ],
      "execution_count": 5,
      "outputs": [
        {
          "output_type": "execute_result",
          "data": {
            "text/plain": [
              "      Date and Time  Water Temperature (F)  Est. Flow Rate[m^3/s]\n",
              "0  9/28/17 12:00 AM                 66.560               0.001469\n",
              "1  9/28/17 12:03 AM                 66.560               0.001471\n",
              "2  9/28/17 12:06 AM                 66.542               0.006522\n",
              "3  9/28/17 12:09 AM                 66.560               0.004293\n",
              "4  9/28/17 12:12 AM                 66.542               0.002252\n",
              "5  9/28/17 12:15 AM                 66.560               0.009034\n",
              "6  9/28/17 12:18 AM                 66.542               0.005067\n",
              "7  9/28/17 12:21 AM                 66.578              -0.001823\n",
              "8  9/28/17 12:24 AM                 66.542              -0.007261\n",
              "9  9/28/17 12:27 AM                 66.524              -0.011683"
            ],
            "text/html": [
              "\n",
              "  <div id=\"df-bc9d86e6-1559-4adb-9928-c6341b03e979\">\n",
              "    <div class=\"colab-df-container\">\n",
              "      <div>\n",
              "<style scoped>\n",
              "    .dataframe tbody tr th:only-of-type {\n",
              "        vertical-align: middle;\n",
              "    }\n",
              "\n",
              "    .dataframe tbody tr th {\n",
              "        vertical-align: top;\n",
              "    }\n",
              "\n",
              "    .dataframe thead th {\n",
              "        text-align: right;\n",
              "    }\n",
              "</style>\n",
              "<table border=\"1\" class=\"dataframe\">\n",
              "  <thead>\n",
              "    <tr style=\"text-align: right;\">\n",
              "      <th></th>\n",
              "      <th>Date and Time</th>\n",
              "      <th>Water Temperature (F)</th>\n",
              "      <th>Est. Flow Rate[m^3/s]</th>\n",
              "    </tr>\n",
              "  </thead>\n",
              "  <tbody>\n",
              "    <tr>\n",
              "      <th>0</th>\n",
              "      <td>9/28/17 12:00 AM</td>\n",
              "      <td>66.560</td>\n",
              "      <td>0.001469</td>\n",
              "    </tr>\n",
              "    <tr>\n",
              "      <th>1</th>\n",
              "      <td>9/28/17 12:03 AM</td>\n",
              "      <td>66.560</td>\n",
              "      <td>0.001471</td>\n",
              "    </tr>\n",
              "    <tr>\n",
              "      <th>2</th>\n",
              "      <td>9/28/17 12:06 AM</td>\n",
              "      <td>66.542</td>\n",
              "      <td>0.006522</td>\n",
              "    </tr>\n",
              "    <tr>\n",
              "      <th>3</th>\n",
              "      <td>9/28/17 12:09 AM</td>\n",
              "      <td>66.560</td>\n",
              "      <td>0.004293</td>\n",
              "    </tr>\n",
              "    <tr>\n",
              "      <th>4</th>\n",
              "      <td>9/28/17 12:12 AM</td>\n",
              "      <td>66.542</td>\n",
              "      <td>0.002252</td>\n",
              "    </tr>\n",
              "    <tr>\n",
              "      <th>5</th>\n",
              "      <td>9/28/17 12:15 AM</td>\n",
              "      <td>66.560</td>\n",
              "      <td>0.009034</td>\n",
              "    </tr>\n",
              "    <tr>\n",
              "      <th>6</th>\n",
              "      <td>9/28/17 12:18 AM</td>\n",
              "      <td>66.542</td>\n",
              "      <td>0.005067</td>\n",
              "    </tr>\n",
              "    <tr>\n",
              "      <th>7</th>\n",
              "      <td>9/28/17 12:21 AM</td>\n",
              "      <td>66.578</td>\n",
              "      <td>-0.001823</td>\n",
              "    </tr>\n",
              "    <tr>\n",
              "      <th>8</th>\n",
              "      <td>9/28/17 12:24 AM</td>\n",
              "      <td>66.542</td>\n",
              "      <td>-0.007261</td>\n",
              "    </tr>\n",
              "    <tr>\n",
              "      <th>9</th>\n",
              "      <td>9/28/17 12:27 AM</td>\n",
              "      <td>66.524</td>\n",
              "      <td>-0.011683</td>\n",
              "    </tr>\n",
              "  </tbody>\n",
              "</table>\n",
              "</div>\n",
              "      <button class=\"colab-df-convert\" onclick=\"convertToInteractive('df-bc9d86e6-1559-4adb-9928-c6341b03e979')\"\n",
              "              title=\"Convert this dataframe to an interactive table.\"\n",
              "              style=\"display:none;\">\n",
              "        \n",
              "  <svg xmlns=\"http://www.w3.org/2000/svg\" height=\"24px\"viewBox=\"0 0 24 24\"\n",
              "       width=\"24px\">\n",
              "    <path d=\"M0 0h24v24H0V0z\" fill=\"none\"/>\n",
              "    <path d=\"M18.56 5.44l.94 2.06.94-2.06 2.06-.94-2.06-.94-.94-2.06-.94 2.06-2.06.94zm-11 1L8.5 8.5l.94-2.06 2.06-.94-2.06-.94L8.5 2.5l-.94 2.06-2.06.94zm10 10l.94 2.06.94-2.06 2.06-.94-2.06-.94-.94-2.06-.94 2.06-2.06.94z\"/><path d=\"M17.41 7.96l-1.37-1.37c-.4-.4-.92-.59-1.43-.59-.52 0-1.04.2-1.43.59L10.3 9.45l-7.72 7.72c-.78.78-.78 2.05 0 2.83L4 21.41c.39.39.9.59 1.41.59.51 0 1.02-.2 1.41-.59l7.78-7.78 2.81-2.81c.8-.78.8-2.07 0-2.86zM5.41 20L4 18.59l7.72-7.72 1.47 1.35L5.41 20z\"/>\n",
              "  </svg>\n",
              "      </button>\n",
              "      \n",
              "  <style>\n",
              "    .colab-df-container {\n",
              "      display:flex;\n",
              "      flex-wrap:wrap;\n",
              "      gap: 12px;\n",
              "    }\n",
              "\n",
              "    .colab-df-convert {\n",
              "      background-color: #E8F0FE;\n",
              "      border: none;\n",
              "      border-radius: 50%;\n",
              "      cursor: pointer;\n",
              "      display: none;\n",
              "      fill: #1967D2;\n",
              "      height: 32px;\n",
              "      padding: 0 0 0 0;\n",
              "      width: 32px;\n",
              "    }\n",
              "\n",
              "    .colab-df-convert:hover {\n",
              "      background-color: #E2EBFA;\n",
              "      box-shadow: 0px 1px 2px rgba(60, 64, 67, 0.3), 0px 1px 3px 1px rgba(60, 64, 67, 0.15);\n",
              "      fill: #174EA6;\n",
              "    }\n",
              "\n",
              "    [theme=dark] .colab-df-convert {\n",
              "      background-color: #3B4455;\n",
              "      fill: #D2E3FC;\n",
              "    }\n",
              "\n",
              "    [theme=dark] .colab-df-convert:hover {\n",
              "      background-color: #434B5C;\n",
              "      box-shadow: 0px 1px 3px 1px rgba(0, 0, 0, 0.15);\n",
              "      filter: drop-shadow(0px 1px 2px rgba(0, 0, 0, 0.3));\n",
              "      fill: #FFFFFF;\n",
              "    }\n",
              "  </style>\n",
              "\n",
              "      <script>\n",
              "        const buttonEl =\n",
              "          document.querySelector('#df-bc9d86e6-1559-4adb-9928-c6341b03e979 button.colab-df-convert');\n",
              "        buttonEl.style.display =\n",
              "          google.colab.kernel.accessAllowed ? 'block' : 'none';\n",
              "\n",
              "        async function convertToInteractive(key) {\n",
              "          const element = document.querySelector('#df-bc9d86e6-1559-4adb-9928-c6341b03e979');\n",
              "          const dataTable =\n",
              "            await google.colab.kernel.invokeFunction('convertToInteractive',\n",
              "                                                     [key], {});\n",
              "          if (!dataTable) return;\n",
              "\n",
              "          const docLinkHtml = 'Like what you see? Visit the ' +\n",
              "            '<a target=\"_blank\" href=https://colab.research.google.com/notebooks/data_table.ipynb>data table notebook</a>'\n",
              "            + ' to learn more about interactive tables.';\n",
              "          element.innerHTML = '';\n",
              "          dataTable['output_type'] = 'display_data';\n",
              "          await google.colab.output.renderOutput(dataTable, element);\n",
              "          const docLink = document.createElement('div');\n",
              "          docLink.innerHTML = docLinkHtml;\n",
              "          element.appendChild(docLink);\n",
              "        }\n",
              "      </script>\n",
              "    </div>\n",
              "  </div>\n",
              "  "
            ]
          },
          "metadata": {},
          "execution_count": 5
        }
      ]
    },
    {
      "cell_type": "markdown",
      "source": [
        "Let's focus on Estimated Flow Rate (m3/s) in this project. Create a new dataframe that only contains Est. Flow Rate [m3/s]."
      ],
      "metadata": {
        "id": "5teRWzLSz6YW"
      }
    },
    {
      "cell_type": "code",
      "source": [
        "df2=df1['Est. Flow Rate[m^3/s]']"
      ],
      "metadata": {
        "id": "M9wQwtCA0Fei"
      },
      "execution_count": 9,
      "outputs": []
    },
    {
      "cell_type": "markdown",
      "metadata": {
        "id": "PM69GHhR67pA"
      },
      "source": [
        "# Exploring Data"
      ]
    },
    {
      "cell_type": "markdown",
      "source": [
        "Let's investigate the distribution of the variable Est. Flow Rate[m^3/s]."
      ],
      "metadata": {
        "id": "ys__yqqA0bNt"
      }
    },
    {
      "cell_type": "code",
      "source": [
        "sns.displot(df2)"
      ],
      "metadata": {
        "id": "cvRxprvwyM3r",
        "outputId": "d779af5b-8612-4cd2-8e11-38785893e19e",
        "colab": {
          "base_uri": "https://localhost:8080/",
          "height": 386
        }
      },
      "execution_count": 10,
      "outputs": [
        {
          "output_type": "execute_result",
          "data": {
            "text/plain": [
              "<seaborn.axisgrid.FacetGrid at 0x7fc7a78f0c50>"
            ]
          },
          "metadata": {},
          "execution_count": 10
        },
        {
          "output_type": "display_data",
          "data": {
            "text/plain": [
              "<Figure size 360x360 with 1 Axes>"
            ],
            "image/png": "[encoded data removed]"
          },
          "metadata": {
            "needs_background": "light"
          }
        }
      ]
    },
    {
      "cell_type": "markdown",
      "metadata": {
        "id": "6fmCJgKrSK9L"
      },
      "source": [
        "***Comment on the shape of the distribution.***\n",
        "<br>\n",
        "***Answer:***\n",
        "<br> The shape of the curve resembles that of a bell shaped curve. This means the distribution is normal.\n"
      ]
    },
    {
      "cell_type": "markdown",
      "metadata": {
        "id": "n2cWw2t1VpNX"
      },
      "source": [
        "#Box plot\n",
        "Box plots can be used to check if there are outliers in the data set and can also be used to check for normality.\n",
        "\n",
        "DataFrame.boxplot(column=, grid=True, ...) can be used to generate boxplots for selected columns. use column= to specify the columns you would like to use to create boxplots and use grid=Fasle to not display grids (by default it is True).\n",
        "\n"
      ]
    },
    {
      "cell_type": "markdown",
      "metadata": {
        "id": "ZiHCn5QTA5_d"
      },
      "source": [
        "Generate Boxplot for Est. Flow Rate[m^3/s] in year 2017.\n",
        "\n"
      ]
    },
    {
      "cell_type": "code",
      "metadata": {
        "id": "WluoZiUAVsik",
        "outputId": "b559748d-d190-40aa-96eb-98a33b8e96d5",
        "colab": {
          "base_uri": "https://localhost:8080/",
          "height": 265
        }
      },
      "source": [
        "boxplot1 = df1.boxplot(column=[\"Est. Flow Rate[m^3/s]\"],grid=False)"
      ],
      "execution_count": 11,
      "outputs": [
        {
          "output_type": "display_data",
          "data": {
            "text/plain": [
              "<Figure size 432x288 with 1 Axes>"
            ],
            "image/png": "[encoded data removed]"
          },
          "metadata": {
            "needs_background": "light"
          }
        }
      ]
    },
    {
      "cell_type": "markdown",
      "metadata": {
        "id": "ARWBSqTdTWaF"
      },
      "source": [
        "***Comment on the boxplot. Are there any outliers?*** \n",
        "<br>\n",
        "***Answer:*** <br>\n"
      ]
    },
    {
      "cell_type": "markdown",
      "source": [
        "There are many outliers for the year 2017."
      ],
      "metadata": {
        "id": "Ar8bmy5aDhLW"
      }
    },
    {
      "cell_type": "markdown",
      "source": [
        "## Sampling Distribution"
      ],
      "metadata": {
        "id": "k31ZMbb7DiIn"
      }
    },
    {
      "cell_type": "markdown",
      "source": [
        "Now, let's build sampling distribution for the mean of Est. Flow Rate[m^3/s]. "
      ],
      "metadata": {
        "id": "wAv9GbI001CL"
      }
    },
    {
      "cell_type": "markdown",
      "source": [
        "First, let's create an array that represents the population using to_numpy() function."
      ],
      "metadata": {
        "id": "gXYqvR0_1G3I"
      }
    },
    {
      "cell_type": "code",
      "source": [
        "a1=df2.to_numpy()"
      ],
      "metadata": {
        "id": "u_MZyG2r1S5h"
      },
      "execution_count": 12,
      "outputs": []
    },
    {
      "cell_type": "markdown",
      "source": [
        "The sampling distribution consists of sample means from many samples of a certian size. We will build a function to randomly sample the population based on the sample size and number of samples."
      ],
      "metadata": {
        "id": "lo-jruOM1aRM"
      }
    },
    {
      "cell_type": "markdown",
      "source": [
        "The function is named sample_mean_calculator() and has three parameters: population_array, sample_size, and n_samples. population_array is the population. In our case, it would be a1. sample size is the number of observations in each sample. We will change the sample size and study the impact on the distribution. n_samples provides the number of samples."
      ],
      "metadata": {
        "id": "lPLBWZow15q_"
      }
    },
    {
      "cell_type": "markdown",
      "source": [
        "First, we define sample_means as an empty list [].\n",
        "We then use a loop to get each of the n samples.\n",
        "For each sample, we randomly generate a sample of size sample_size.\n",
        "The NumPy random choice() function is used to gets the random samples of a one-dimensional array which returns as the random samples of NumPy array. The NumPy random choice() function is a built-in function in the NumPy package of python.\n",
        "We calculate the sample mean for each sample using stat.mean() function and add it to the sample_means list."
      ],
      "metadata": {
        "id": "7_gIPB9H26-u"
      }
    },
    {
      "cell_type": "code",
      "source": [
        "def sample_mean_calculator(population_array, sample_size, n_samples):\n",
        "  sample_means = []\n",
        "  for i in range(n_samples):\n",
        "    sample = np.random.choice(population_array, size=sample_size, replace=False)\n",
        "    sample_mean = stat.mean(sample)\n",
        "    sample_means.append(sample_mean)\n",
        "  return sample_means"
      ],
      "metadata": {
        "id": "ivN_dXFMylVV"
      },
      "execution_count": 13,
      "outputs": []
    },
    {
      "cell_type": "markdown",
      "source": [
        "Let's generate a sampling distribution using sample size 10 and  10 samples.\n",
        "Visualize the distribution of the data using sns.displot()."
      ],
      "metadata": {
        "id": "xAHNGZ0R3yVq"
      }
    },
    {
      "cell_type": "code",
      "source": [
        "s0=pd.Series(sample_mean_calculator(a1, 10, 10), name=\"Est. Flow Rate (\\N{DEGREE SIGN}F)\")"
      ],
      "metadata": {
        "id": "DhcZ-ETQ_Qk1"
      },
      "execution_count": 14,
      "outputs": []
    },
    {
      "cell_type": "code",
      "source": [
        "sns.displot(s0)"
      ],
      "metadata": {
        "id": "ecArcPRbyzbN",
        "outputId": "91f0dac5-2192-48d6-ff64-312da3589ac7",
        "colab": {
          "base_uri": "https://localhost:8080/",
          "height": 386
        }
      },
      "execution_count": 15,
      "outputs": [
        {
          "output_type": "execute_result",
          "data": {
            "text/plain": [
              "<seaborn.axisgrid.FacetGrid at 0x7fc7a4a8e910>"
            ]
          },
          "metadata": {},
          "execution_count": 15
        },
        {
          "output_type": "display_data",
          "data": {
            "text/plain": [
              "<Figure size 360x360 with 1 Axes>"
            ],
            "image/png": "[encoded data removed]"
          },
          "metadata": {
            "needs_background": "light"
          }
        }
      ]
    },
    {
      "cell_type": "markdown",
      "source": [
        "Let's try sample size 30, and 10000 samples."
      ],
      "metadata": {
        "id": "DV7QmbEf3w-L"
      }
    },
    {
      "cell_type": "code",
      "source": [
        "s1=pd.Series(sample_mean_calculator(a1, 30, 10000), name=\"Est. Flow Rate (\\N{DEGREE SIGN}F)\")"
      ],
      "metadata": {
        "id": "BJJla7Gq-e9C"
      },
      "execution_count": 16,
      "outputs": []
    },
    {
      "cell_type": "code",
      "source": [
        "sns.displot(s1)"
      ],
      "metadata": {
        "id": "IQGk4rfi--y_",
        "outputId": "4bfa5d48-5f9f-476b-a244-4c90b342e734",
        "colab": {
          "base_uri": "https://localhost:8080/",
          "height": 386
        }
      },
      "execution_count": 17,
      "outputs": [
        {
          "output_type": "execute_result",
          "data": {
            "text/plain": [
              "<seaborn.axisgrid.FacetGrid at 0x7fc7a4a25c90>"
            ]
          },
          "metadata": {},
          "execution_count": 17
        },
        {
          "output_type": "display_data",
          "data": {
            "text/plain": [
              "<Figure size 360x360 with 1 Axes>"
            ],
            "image/png": "[encoded data removed]"
          },
          "metadata": {
            "needs_background": "light"
          }
        }
      ]
    },
    {
      "cell_type": "markdown",
      "source": [
        "Let's try sample size of 100, 10000 samples."
      ],
      "metadata": {
        "id": "c3IeKshQ5DMk"
      }
    },
    {
      "cell_type": "code",
      "source": [
        "s2=pd.Series(sample_mean_calculator(a1, 100, 10000), name=\"Est. Flow Rate (\\N{DEGREE SIGN}F)\")"
      ],
      "metadata": {
        "id": "rjzpoEzp_GkP"
      },
      "execution_count": 19,
      "outputs": []
    },
    {
      "cell_type": "code",
      "source": [
        "sns.displot(s2)"
      ],
      "metadata": {
        "id": "1FbeEtH15K82",
        "outputId": "1c97b52b-a9d3-4905-b8c7-e45e927f75a1",
        "colab": {
          "base_uri": "https://localhost:8080/",
          "height": 386
        }
      },
      "execution_count": 20,
      "outputs": [
        {
          "output_type": "execute_result",
          "data": {
            "text/plain": [
              "<seaborn.axisgrid.FacetGrid at 0x7fc7a498f2d0>"
            ]
          },
          "metadata": {},
          "execution_count": 20
        },
        {
          "output_type": "display_data",
          "data": {
            "text/plain": [
              "<Figure size 360x360 with 1 Axes>"
            ],
            "image/png": "[encoded data removed]"
          },
          "metadata": {
            "needs_background": "light"
          }
        }
      ]
    },
    {
      "cell_type": "markdown",
      "source": [
        "<b>Question:</b> What did you observe from the three sampling distributions generated above?<br>\n",
        "<b>Answer:</b>\n"
      ],
      "metadata": {
        "id": "BlJRyj0D_pPA"
      }
    },
    {
      "cell_type": "markdown",
      "source": [
        "Each of the generated graphs still favored a bell shaped curve. It can be derived that the distribution is normal for each."
      ],
      "metadata": {
        "id": "ryvySFYuEqBM"
      }
    },
    {
      "cell_type": "markdown",
      "source": [
        "## Using Sampling Distribution of the Mean and Vairance to Do Calculation"
      ],
      "metadata": {
        "id": "roTwRtjgHKY0"
      }
    },
    {
      "cell_type": "markdown",
      "source": [
        "1. Assuming the population mean (mean Est. Flow Rate[m^3/s] in 2017) is -0.09.  The variance of a sample of 26 observations is 0.0004. What is the probability of the mean Est. Flow Rate[m^3/s] is <b> greater</b> than -0.13?"
      ],
      "metadata": {
        "id": "QFvoNitvIUTO"
      }
    },
    {
      "cell_type": "markdown",
      "source": [
        ""
      ],
      "metadata": {
        "id": "ZNf0lsgfG_38"
      }
    },
    {
      "cell_type": "markdown",
      "source": [
        "Test statistic for the sampling distribution of mean is t.<br>\n",
        "$t=\\frac{x̄-μ}{\\sqrt\\frac{s^2}{n-1}}$ with degree of freedom n-1.<br>\n",
        "The cumulative distribution function (CDF) of a real-valued random variable X, or just distribution function of X, evaluated at x, is the probability that X will take a value less than or equal to x."
      ],
      "metadata": {
        "id": "dSsn8dzHMu4N"
      }
    },
    {
      "cell_type": "code",
      "source": [
        "t1=((-0.13)-(-0.09))/math.sqrt(0.0004/(26-1))"
      ],
      "metadata": {
        "id": "fjkowgN3KyzN"
      },
      "execution_count": 25,
      "outputs": []
    },
    {
      "cell_type": "code",
      "source": [
        "1-t.cdf(x=t1, df=25)"
      ],
      "metadata": {
        "id": "K4d49Sc7L2gy",
        "outputId": "8064ec2e-e67f-4a4e-9125-f6443c460b0c",
        "colab": {
          "base_uri": "https://localhost:8080/"
        }
      },
      "execution_count": 26,
      "outputs": [
        {
          "output_type": "execute_result",
          "data": {
            "text/plain": [
              "0.9999999998396795"
            ]
          },
          "metadata": {},
          "execution_count": 26
        }
      ]
    },
    {
      "cell_type": "markdown",
      "source": [
        "<b>Question:</b> <br>\n",
        "What is the probability of the mean Est. Flow Rate[m^3/s] is greater than -0.13? <br>\n",
        "<b>Answer:</b> <br>\n"
      ],
      "metadata": {
        "id": "_bQ5dG4-wkdK"
      }
    },
    {
      "cell_type": "markdown",
      "source": [
        "The probability of the mean Est. Flow Rate[m^3/s] is greater than -0.13 is 0.99."
      ],
      "metadata": {
        "id": "NorOTOBkJa7n"
      }
    },
    {
      "cell_type": "markdown",
      "source": [
        "2. Assume the variance of the Est. Flow Rate[m^3/s] is 0.0009. What is the probability that the sample variance is <b>greater</b> than 0.0005?"
      ],
      "metadata": {
        "id": "OdLw3SWPO6M1"
      }
    },
    {
      "cell_type": "code",
      "source": [
        "t1=((-0.13)-(-0.09))/math.sqrt(0.0009/(26-1))"
      ],
      "metadata": {
        "id": "sJ5_zv6kwzAn"
      },
      "execution_count": 29,
      "outputs": []
    },
    {
      "cell_type": "code",
      "source": [
        "1-t.cdf(x=t1, df=25)"
      ],
      "metadata": {
        "id": "zEMNkWC4L_R_",
        "outputId": "a5709f65-63d6-45c8-992d-ec9acc548235",
        "colab": {
          "base_uri": "https://localhost:8080/"
        }
      },
      "execution_count": 30,
      "outputs": [
        {
          "output_type": "execute_result",
          "data": {
            "text/plain": [
              "0.9999997248054109"
            ]
          },
          "metadata": {},
          "execution_count": 30
        }
      ]
    },
    {
      "cell_type": "markdown",
      "source": [
        " The probability that the sample variance is greater than 0.0005 is 0.99."
      ],
      "metadata": {
        "id": "uIXwQr_GMMiK"
      }
    },
    {
      "cell_type": "markdown",
      "source": [
        ""
      ],
      "metadata": {
        "id": "tXaMAtpvMIin"
      }
    },
    {
      "cell_type": "markdown",
      "source": [
        "Test statistic for sampling distribution of variance is $\\chi^2$. <br>\n",
        "$\\chi^2=\\frac{(n-1)s^2}{\\sigma^2}$ with degree of freedom n-1."
      ],
      "metadata": {
        "id": "sm72BRhAPJxq"
      }
    },
    {
      "cell_type": "code",
      "source": [
        "c1=(26-1)*0.0004/25"
      ],
      "metadata": {
        "id": "PC4VKorbQoHZ"
      },
      "execution_count": 31,
      "outputs": []
    },
    {
      "cell_type": "code",
      "source": [
        "chi2.cdf(c1, 25)"
      ],
      "metadata": {
        "id": "0CoqNJYXPigQ",
        "outputId": "423d50dc-ba3e-4349-dab6-ec3c84e8c021",
        "colab": {
          "base_uri": "https://localhost:8080/"
        }
      },
      "execution_count": 32,
      "outputs": [
        {
          "output_type": "execute_result",
          "data": {
            "text/plain": [
              "3.385795796217963e-56"
            ]
          },
          "metadata": {},
          "execution_count": 32
        }
      ]
    },
    {
      "cell_type": "markdown",
      "source": [
        "<b>Question:</b> <br>What is the probability that the sample variance is greater than 0.0005? <br>\n",
        "<b>Answer:</b> <br>"
      ],
      "metadata": {
        "id": "2BGocXTNw64t"
      }
    },
    {
      "cell_type": "markdown",
      "metadata": {
        "id": "qIHvLHBJTsfc"
      },
      "source": [
        "##Confidence Interval\n",
        "The (1-α)% confidence interval provides a range of values that you can be (1-α)% confident contains/captures the true mean of the population. Due to natural sampling variability, the sample mean (center of the CI) will vary from sample to sample.\n",
        "\n",
        "Practically, it usually is near impossible to study the entire population. Researchers can only work on samples of the population and estimate parameters of the popultion using sample statistics.Therefore, a confidence interval is simply a way to measure how well the sample represents the population. \n",
        "\n",
        "It is important to point out that the confidence is in the **method**, not in a particular interval. If we repeat the sampling method many times, approximately 95% of the intervals constructed would **capture** the true population mean.\n",
        "\n",
        "Therefore, as the sample size increases, the range of interval values will be narrower, meaning that the estimationbeing more accurate compared with a smaller sample.\n",
        "<br>\n",
        "<br>\n",
        "In this project, we can construct confidence interval based on the sample data collected.\n",
        "<br>\n",
        "From the histogram and bloxplot, we have already estabished that the data is not normally distributed. However, give the large sample size, using the central limit theorem, we know the sampling distribution of the mean will follow a normal distribution. The following code will generate the 95% confidence interval for the mean water temperatue for year 2016. The code will generate the upper level and lower level of the confidence interval based on the sample.\n",
        "\n",
        "stats.norm.interval(alpha=,loc=scale=) function is used to genetate the confidence interval. alpha provides the significance level, 1-alpha is the confidence, loc is the mean and scale is the standard deviation of the sample mean.\n",
        "\n",
        "numpy.mean() function provides the sample mean and stats.sem() computes the sandard error of the mean."
      ]
    },
    {
      "cell_type": "markdown",
      "source": [
        "Let's randomly select a sample of 200 observations from the population (Est. Flow Rate[m^3/s])."
      ],
      "metadata": {
        "id": "0PSszE14xdU-"
      }
    },
    {
      "cell_type": "code",
      "source": [
        "data=np.random.choice(df2, size=200, replace=False)"
      ],
      "metadata": {
        "id": "d0mFtofMxmrv"
      },
      "execution_count": 27,
      "outputs": []
    },
    {
      "cell_type": "markdown",
      "source": [
        "Construct a 95% confidence interval for the mean Est. Flow Rate[m^3/s] using the sample data generated."
      ],
      "metadata": {
        "id": "n43KCra3x3_q"
      }
    },
    {
      "cell_type": "code",
      "source": [
        "stats.norm.interval(alpha=0.95, loc=np.mean(data), scale=stats.sem(data))"
      ],
      "metadata": {
        "id": "kNoACzYRyNxL",
        "outputId": "9f212608-c2a7-459a-83a0-5ebb407070b6",
        "colab": {
          "base_uri": "https://localhost:8080/"
        }
      },
      "execution_count": 28,
      "outputs": [
        {
          "output_type": "execute_result",
          "data": {
            "text/plain": [
              "(-0.011193980834196328, -0.008812785285803678)"
            ]
          },
          "metadata": {},
          "execution_count": 28
        }
      ]
    },
    {
      "cell_type": "markdown",
      "metadata": {
        "id": "UF0rbyLBVsvd"
      },
      "source": [
        "***Interpret the confidence interval you generated.***\n",
        "<br>\n",
        "***Answer:***\n",
        "<br>"
      ]
    },
    {
      "cell_type": "markdown",
      "source": [
        "There is 95% chance that the interval (-0.011193980834196328, -0.008812785285803678) will capture the true mean water temperature for year 2016."
      ],
      "metadata": {
        "id": "Li765JfYKSIX"
      }
    }
  ]
}